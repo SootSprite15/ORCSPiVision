{
 "cells": [
  {
   "cell_type": "code",
   "execution_count": 1,
   "id": "ee52ccb7",
   "metadata": {},
   "outputs": [],
   "source": [
    "from aiy.vision.inference import CameraInference\n",
    "from aiy.vision.models import object_detection\n",
    "from aiy.vision.streaming.server import StreamingServer\n",
    "from aiy.vision.streaming import svg\n",
    "from aiy.leds import Leds, Color\n",
    "from gpiozero import Servo\n",
    "from aiy.pins import PIN_A\n",
    "\n",
    "from picamera import PiCamera\n",
    "from IPython.display import Image, display, clear_output\n",
    "\n",
    "import contextlib\n",
    "import time"
   ]
  },
  {
   "cell_type": "markdown",
   "id": "6269c4f0",
   "metadata": {},
   "source": [
    "### Animal Detector\n",
    "\n",
    "The network we use not can detect prople, dogs and cats. Remember if your joy detector is running, you need to turn it off using the commands\n",
    "\n",
    "```\n",
    "sudo systemctl stop joy_detection_demo.service\n",
    "```"
   ]
  },
  {
   "cell_type": "markdown",
   "id": "c67328dc",
   "metadata": {},
   "source": [
    "I added some code here that is called to create the overlay - basically the box around the objects and the labels above. You can customize it and/or add information you want to overlay on the camera feed."
   ]
  },
  {
   "cell_type": "code",
   "execution_count": 15,
   "id": "9a383051",
   "metadata": {},
   "outputs": [],
   "source": [
    "def svg_overlay(objects, frame_size):\n",
    "    \n",
    "    labels = ['Background','Person', 'Cat', 'Dog']\n",
    "\n",
    "    width, height = frame_size\n",
    "    doc = svg.Svg(width=width, height=height)\n",
    "\n",
    "    for obj in objects:\n",
    "        x, y, w, h = obj.bounding_box\n",
    "        doc.add(svg.Rect(x=int(x), y=int(y), width=int(w), height=int(h), rx=10, ry=10,\n",
    "                         fill_opacity=0.1,style='fill:white;stroke:white;stroke-width:4px'))\n",
    "\n",
    "        doc.add(svg.Text(labels[obj.kind], x=x, y=y-12, fill='red', font_size=50))\n",
    "\n",
    "    return str(doc)"
   ]
  },
  {
   "cell_type": "markdown",
   "id": "9de67ca5",
   "metadata": {},
   "source": [
    "#### Main loop\n",
    "\n",
    "Here is our main loop based on the code we used last time. Look at the comments on what was changed. Basically we removed the part saving the picture and adjust the servo value to the joy score each frame. We also added the streaming back in, to while this cell runs, you can connect to http://orcspi-vis.local:4664 and see the stream."
   ]
  },
  {
   "cell_type": "code",
   "execution_count": 19,
   "id": "01f89e8d",
   "metadata": {},
   "outputs": [
    {
     "name": "stdout",
     "output_type": "stream",
     "text": [
      "Loading model - hold on ..\n",
      "Object #0: kind=PERSON(1), score=0.506103, bbox=(298, 188, 1319, 1036)\n",
      "Object #0: kind=PERSON(1), score=0.506103, bbox=(299, 192, 1311, 1037)\n",
      "Object #0: kind=PERSON(1), score=0.523177, bbox=(300, 191, 1317, 1037)\n",
      "Object #0: kind=PERSON(1), score=0.578210, bbox=(182, 207, 1434, 1009)\n",
      "Object #0: kind=PERSON(1), score=0.550366, bbox=(292, 198, 1321, 1029)\n",
      "Object #0: kind=PERSON(1), score=0.558086, bbox=(286, 191, 1327, 1033)\n",
      "Object #0: kind=PERSON(1), score=0.503418, bbox=(177, 207, 1429, 1008)\n",
      "Object #0: kind=PERSON(1), score=0.537284, bbox=(190, 211, 1422, 1005)\n",
      "Object #0: kind=PERSON(1), score=0.511961, bbox=(330, 194, 1291, 1037)\n",
      "Object #0: kind=PERSON(1), score=0.573081, bbox=(184, 212, 1430, 1005)\n",
      "Object #0: kind=PERSON(1), score=0.583500, bbox=(184, 210, 1438, 1007)\n",
      "Object #0: kind=PERSON(1), score=0.652241, bbox=(206, 216, 1415, 1002)\n",
      "Object #0: kind=PERSON(1), score=0.653459, bbox=(207, 223, 1414, 995)\n",
      "Object #0: kind=PERSON(1), score=0.690037, bbox=(207, 226, 1416, 994)\n",
      "Object #0: kind=PERSON(1), score=0.592667, bbox=(292, 193, 1334, 1031)\n",
      "Object #0: kind=PERSON(1), score=0.661923, bbox=(199, 223, 1422, 996)\n",
      "Object #0: kind=PERSON(1), score=0.615897, bbox=(195, 223, 1425, 995)\n",
      "Object #0: kind=PERSON(1), score=0.692018, bbox=(214, 226, 1412, 993)\n",
      "Object #0: kind=PERSON(1), score=0.578924, bbox=(289, 185, 1342, 1045)\n",
      "Object #0: kind=PERSON(1), score=0.556580, bbox=(200, 219, 1412, 998)\n",
      "Object #0: kind=PERSON(1), score=0.611846, bbox=(195, 219, 1423, 998)\n",
      "Object #0: kind=PERSON(1), score=0.652020, bbox=(203, 224, 1416, 995)\n",
      "Object #0: kind=PERSON(1), score=0.603406, bbox=(196, 221, 1422, 997)\n",
      "Object #0: kind=PERSON(1), score=0.607081, bbox=(191, 221, 1428, 998)\n",
      "Object #0: kind=PERSON(1), score=0.577734, bbox=(295, 186, 1333, 1037)\n",
      "Object #0: kind=PERSON(1), score=0.601125, bbox=(292, 195, 1334, 1031)\n",
      "Object #0: kind=PERSON(1), score=0.560493, bbox=(298, 193, 1323, 1031)\n",
      "Object #0: kind=PERSON(1), score=0.605566, bbox=(280, 183, 1346, 1039)\n",
      "Object #0: kind=PERSON(1), score=0.642657, bbox=(204, 225, 1410, 993)\n",
      "Object #0: kind=PERSON(1), score=0.615088, bbox=(220, 223, 1390, 994)\n",
      "Object #0: kind=PERSON(1), score=0.557303, bbox=(196, 222, 1414, 996)\n",
      "Object #0: kind=PERSON(1), score=0.520009, bbox=(312, 202, 1314, 1029)\n",
      "Object #0: kind=PERSON(1), score=0.500488, bbox=(182, 221, 1424, 995)\n",
      "Object #0: kind=PERSON(1), score=0.524882, bbox=(306, 194, 1307, 1032)\n",
      "Object #0: kind=PERSON(1), score=0.523908, bbox=(296, 192, 1318, 1031)\n",
      "Object #0: kind=PERSON(1), score=0.644896, bbox=(215, 222, 1405, 997)\n",
      "Object #0: kind=PERSON(1), score=0.545891, bbox=(183, 231, 1420, 986)\n",
      "Object #0: kind=PERSON(1), score=0.501953, bbox=(316, 191, 1288, 1034)\n",
      "Object #0: kind=PERSON(1), score=0.535098, bbox=(186, 207, 1423, 1009)\n",
      "Object #0: kind=PERSON(1), score=0.534613, bbox=(325, 193, 1293, 1035)\n",
      "Object #0: kind=PERSON(1), score=0.504394, bbox=(323, 189, 1290, 1036)\n",
      "Object #0: kind=PERSON(1), score=0.541166, bbox=(299, 187, 1317, 1035)\n",
      "Object #0: kind=PERSON(1), score=0.542863, bbox=(185, 213, 1427, 1003)\n",
      "Object #0: kind=PERSON(1), score=0.500854, bbox=(179, 204, 1431, 1011)\n",
      "Object #0: kind=PERSON(1), score=0.654895, bbox=(196, 210, 1424, 1007)\n",
      "Object #0: kind=PERSON(1), score=0.517815, bbox=(190, 202, 1423, 1013)\n",
      "Object #0: kind=PERSON(1), score=0.542863, bbox=(193, 214, 1415, 1003)\n",
      "Object #0: kind=PERSON(1), score=0.580828, bbox=(297, 187, 1324, 1034)\n",
      "Interrupted ..\n",
      "Done\n"
     ]
    }
   ],
   "source": [
    "with contextlib.ExitStack() as stack:\n",
    "    leds   = stack.enter_context(Leds())\n",
    "    camera = stack.enter_context(PiCamera(sensor_mode=4, resolution=(820, 616)))\n",
    "\n",
    "    # This starts and runs the streaming of the camera\n",
    "    server = stack.enter_context(StreamingServer(camera))  \n",
    "\n",
    "    print (\"Loading model - hold on ..\")\n",
    "        \n",
    "    # Do inference on VisionBonnet\n",
    "    with CameraInference(object_detection.model()) as inference:\n",
    "        try:   \n",
    "            for result in inference.run():\n",
    "                leds.update(Leds.rgb_on(Color.GREEN))\n",
    "                objects = object_detection.get_objects(result, 0.5, (0,0))\n",
    "                \n",
    "                # This sends the overlay (boxes) to add to the camera stream\n",
    "                server.send_overlay(svg_overlay(objects, (result.width, result.height)))\n",
    "\n",
    "                clear_output(wait=True)                 \n",
    "                for i, obj in enumerate(objects):\n",
    "                    print('Object #%d: %s' % (i, obj))\n",
    "                                                              \n",
    "        except KeyboardInterrupt:\n",
    "            print(\"Interrupted ..\")\n",
    "            \n",
    "    leds.update(Leds.rgb_off())\n",
    "    print(\"Done\")"
   ]
  },
  {
   "cell_type": "code",
   "execution_count": null,
   "id": "8ba369ea",
   "metadata": {},
   "outputs": [],
   "source": []
  },
  {
   "cell_type": "code",
   "execution_count": 13,
   "id": "0fd1edd4",
   "metadata": {},
   "outputs": [],
   "source": []
  }
 ],
 "metadata": {
  "kernelspec": {
   "display_name": "Python 3 (ipykernel)",
   "language": "python",
   "name": "python3"
  },
  "language_info": {
   "codemirror_mode": {
    "name": "ipython",
    "version": 3
   },
   "file_extension": ".py",
   "mimetype": "text/x-python",
   "name": "python",
   "nbconvert_exporter": "python",
   "pygments_lexer": "ipython3",
   "version": "3.7.3"
  }
 },
 "nbformat": 4,
 "nbformat_minor": 5
}
